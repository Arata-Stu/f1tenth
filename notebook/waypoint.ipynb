{
 "cells": [
  {
   "cell_type": "code",
   "execution_count": null,
   "id": "3e8e4c71",
   "metadata": {},
   "outputs": [],
   "source": [
    "## これがないと, import文でエラーが出る\n",
    "import sys\n",
    "sys.path.append('..')"
   ]
  },
  {
   "cell_type": "code",
   "execution_count": null,
   "id": "ea1a8308",
   "metadata": {},
   "outputs": [],
   "source": [
    "from f1tenth_gym.maps.map_manager import MapManager #/f1tenth_gym/map_manager.py から import\n",
    "\n",
    "map_name = \"Austin\"  # マップ名\n",
    "map_ext = \".png\"  # 拡張子\n",
    "num_beams = 1080 ## 2d Lidarのビーム数\n",
    "speed = 8.0 # m/s\n",
    "num_agents = 1 ## エージェントの数 1: 自車両\n",
    "downsample = 1 # way_point を 1/downsample にする 1: そのまま, 2: 1/2 にする\n",
    "use_dynamic_speed = True # 動的な速度を使用するかどうか\n",
    "a_lat_max = 3.0\n",
    "smooth_sigma = 2\n",
    "\n",
    "map_manager = MapManager(map_name=map_name,\n",
    "                         map_ext=map_ext,\n",
    "                         speed=speed,\n",
    "                         downsample=downsample,\n",
    "                         use_dynamic_speed=True,\n",
    "                         a_lat_max=a_lat_max,\n",
    "                         smooth_sigma=smooth_sigma) "
   ]
  },
  {
   "cell_type": "code",
   "execution_count": null,
   "id": "33de62c6",
   "metadata": {},
   "outputs": [],
   "source": [
    "from src.utils.visualize import visualize_speed_map\n",
    "visualize_speed_map(map_manager=map_manager, figsize=(10, 10), save_path=\"speed_map.png\")"
   ]
  },
  {
   "cell_type": "markdown",
   "id": "d207b85b",
   "metadata": {},
   "source": [
    "## Gym環境の作成"
   ]
  },
  {
   "cell_type": "code",
   "execution_count": null,
   "id": "1e7433f9",
   "metadata": {},
   "outputs": [],
   "source": [
    "from f1tenth_gym.f110_env import F110Env #/f1tenth_gym/f110_env.py から import\n",
    "from src.envs.wrapper import F110Wrapper #/src/envs/wrapper.py から import\n",
    "\n",
    "## 車両のパラメータ (公式から引用)\n",
    "vehicle_params = {\n",
    "    \"mu\": 1.0489,\n",
    "    \"C_Sf\": 4.718,\n",
    "    \"C_Sr\": 5.4562,\n",
    "    \"lf\": 0.15875,\n",
    "    \"lr\": 0.17145,\n",
    "    \"h\": 0.074,\n",
    "    \"m\": 3.74,\n",
    "    \"I\": 0.04712,\n",
    "    \"s_min\": -1.0,\n",
    "    \"s_max\": 1.0,\n",
    "    \"sv_min\": -3.2,\n",
    "    \"sv_max\": 3.2,\n",
    "    \"v_switch\": 7.319,\n",
    "    \"a_max\": 9.51,\n",
    "    \"v_min\": -5.0,\n",
    "    \"v_max\": 10.0,\n",
    "    \"width\": 0.31,\n",
    "    \"length\": 0.58\n",
    "}\n",
    "\n",
    "## F1tenthのgym環境\n",
    "env = F110Env(map=map_manager.map_path, map_ext=map_manager.map_ext, num_beams=num_beams, num_agents=num_agents, params=vehicle_params)\n",
    "env = F110Wrapper(env, map_manager=map_manager)\n",
    "obs, info = env.reset()"
   ]
  },
  {
   "cell_type": "markdown",
   "id": "bcbdb210",
   "metadata": {},
   "source": [
    "## PurePursuitのクラス"
   ]
  },
  {
   "cell_type": "code",
   "execution_count": null,
   "id": "5085bf76",
   "metadata": {},
   "outputs": [],
   "source": [
    "from planner.purePursuit import PurePursuitPlanner #/src/planner/pure_pursuit.py から import\n",
    "\n",
    "wheelbase=(0.17145+0.15875)\n",
    "planner = PurePursuitPlanner(wheelbase=wheelbase, map_manager=map_manager, lookahead=0.3 ,max_reacquire=20.) "
   ]
  },
  {
   "cell_type": "markdown",
   "id": "53bd0dfc",
   "metadata": {},
   "source": [
    "## ループ"
   ]
  },
  {
   "cell_type": "code",
   "execution_count": null,
   "id": "e6874455",
   "metadata": {},
   "outputs": [],
   "source": [
    "import numpy as np  \n",
    "# メインループ\n",
    "while True:\n",
    "    actions = []\n",
    "    steer, speed = planner.plan(obs, gain=0.20)\n",
    "    action = [steer, speed]\n",
    "    actions.append(action)\n",
    "    next_obs, reward, terminated, truncated, info = env.step(np.array(actions))\n",
    "    reward += 0.0\n",
    "    if terminated or truncated:\n",
    "        print(\"terminated\")\n",
    "        break\n",
    "\n",
    "    obs = next_obs\n",
    "    env.render()"
   ]
  },
  {
   "cell_type": "code",
   "execution_count": null,
   "id": "b42628a5",
   "metadata": {},
   "outputs": [],
   "source": []
  }
 ],
 "metadata": {
  "kernelspec": {
   "display_name": "env",
   "language": "python",
   "name": "python3"
  },
  "language_info": {
   "codemirror_mode": {
    "name": "ipython",
    "version": 3
   },
   "file_extension": ".py",
   "mimetype": "text/x-python",
   "name": "python",
   "nbconvert_exporter": "python",
   "pygments_lexer": "ipython3",
   "version": "3.11.10"
  }
 },
 "nbformat": 4,
 "nbformat_minor": 5
}
